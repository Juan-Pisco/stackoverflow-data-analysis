{
 "cells": [
  {
   "cell_type": "markdown",
   "id": "sized-tyler",
   "metadata": {},
   "source": [
    "# Data Analysis for StackOverflow survey results following CRISP-DM"
   ]
  },
  {
   "cell_type": "markdown",
   "id": "printable-organization",
   "metadata": {},
   "source": [
    "Author: Juan David Pisco Jaimes.\n",
    "\n",
    "For this project, the StackOverflow's survey to developers results from 2020 will be used to answer industry-realted questions according to CRISP-DM. This notebook contains code for solving the interrogations using mainly pandas for data management and matplolib as a visual aid of the descriptive statistics."
   ]
  },
  {
   "cell_type": "markdown",
   "id": "blond-panama",
   "metadata": {},
   "source": [
    "## Imported libraries"
   ]
  },
  {
   "cell_type": "code",
   "execution_count": 1,
   "id": "purple-hobby",
   "metadata": {},
   "outputs": [],
   "source": [
    "import pandas as pd\n",
    "import matplotlib.pyplot as plt\n",
    "from collections import defaultdict\n",
    "\n",
    "%matplotlib inline"
   ]
  },
  {
   "cell_type": "markdown",
   "id": "clinical-battery",
   "metadata": {},
   "source": [
    "## Data reading and structure visualization"
   ]
  },
  {
   "cell_type": "code",
   "execution_count": 58,
   "id": "confirmed-barcelona",
   "metadata": {},
   "outputs": [
    {
     "data": {
      "text/html": [
       "<div>\n",
       "<style scoped>\n",
       "    .dataframe tbody tr th:only-of-type {\n",
       "        vertical-align: middle;\n",
       "    }\n",
       "\n",
       "    .dataframe tbody tr th {\n",
       "        vertical-align: top;\n",
       "    }\n",
       "\n",
       "    .dataframe thead th {\n",
       "        text-align: right;\n",
       "    }\n",
       "</style>\n",
       "<table border=\"1\" class=\"dataframe\">\n",
       "  <thead>\n",
       "    <tr style=\"text-align: right;\">\n",
       "      <th></th>\n",
       "      <th>Respondent</th>\n",
       "      <th>MainBranch</th>\n",
       "      <th>Hobbyist</th>\n",
       "      <th>Age</th>\n",
       "      <th>Age1stCode</th>\n",
       "      <th>CompFreq</th>\n",
       "      <th>CompTotal</th>\n",
       "      <th>ConvertedComp</th>\n",
       "      <th>Country</th>\n",
       "      <th>CurrencyDesc</th>\n",
       "      <th>...</th>\n",
       "      <th>SurveyEase</th>\n",
       "      <th>SurveyLength</th>\n",
       "      <th>Trans</th>\n",
       "      <th>UndergradMajor</th>\n",
       "      <th>WebframeDesireNextYear</th>\n",
       "      <th>WebframeWorkedWith</th>\n",
       "      <th>WelcomeChange</th>\n",
       "      <th>WorkWeekHrs</th>\n",
       "      <th>YearsCode</th>\n",
       "      <th>YearsCodePro</th>\n",
       "    </tr>\n",
       "  </thead>\n",
       "  <tbody>\n",
       "    <tr>\n",
       "      <th>0</th>\n",
       "      <td>1</td>\n",
       "      <td>I am a developer by profession</td>\n",
       "      <td>Yes</td>\n",
       "      <td>NaN</td>\n",
       "      <td>13</td>\n",
       "      <td>Monthly</td>\n",
       "      <td>NaN</td>\n",
       "      <td>NaN</td>\n",
       "      <td>Germany</td>\n",
       "      <td>European Euro</td>\n",
       "      <td>...</td>\n",
       "      <td>Neither easy nor difficult</td>\n",
       "      <td>Appropriate in length</td>\n",
       "      <td>No</td>\n",
       "      <td>Computer science, computer engineering, or sof...</td>\n",
       "      <td>ASP.NET Core</td>\n",
       "      <td>ASP.NET;ASP.NET Core</td>\n",
       "      <td>Just as welcome now as I felt last year</td>\n",
       "      <td>50.0</td>\n",
       "      <td>36</td>\n",
       "      <td>27</td>\n",
       "    </tr>\n",
       "    <tr>\n",
       "      <th>1</th>\n",
       "      <td>2</td>\n",
       "      <td>I am a developer by profession</td>\n",
       "      <td>No</td>\n",
       "      <td>NaN</td>\n",
       "      <td>19</td>\n",
       "      <td>NaN</td>\n",
       "      <td>NaN</td>\n",
       "      <td>NaN</td>\n",
       "      <td>United Kingdom</td>\n",
       "      <td>Pound sterling</td>\n",
       "      <td>...</td>\n",
       "      <td>NaN</td>\n",
       "      <td>NaN</td>\n",
       "      <td>NaN</td>\n",
       "      <td>Computer science, computer engineering, or sof...</td>\n",
       "      <td>NaN</td>\n",
       "      <td>NaN</td>\n",
       "      <td>Somewhat more welcome now than last year</td>\n",
       "      <td>NaN</td>\n",
       "      <td>7</td>\n",
       "      <td>4</td>\n",
       "    </tr>\n",
       "    <tr>\n",
       "      <th>2</th>\n",
       "      <td>3</td>\n",
       "      <td>I code primarily as a hobby</td>\n",
       "      <td>Yes</td>\n",
       "      <td>NaN</td>\n",
       "      <td>15</td>\n",
       "      <td>NaN</td>\n",
       "      <td>NaN</td>\n",
       "      <td>NaN</td>\n",
       "      <td>Russian Federation</td>\n",
       "      <td>NaN</td>\n",
       "      <td>...</td>\n",
       "      <td>Neither easy nor difficult</td>\n",
       "      <td>Appropriate in length</td>\n",
       "      <td>NaN</td>\n",
       "      <td>NaN</td>\n",
       "      <td>NaN</td>\n",
       "      <td>NaN</td>\n",
       "      <td>Somewhat more welcome now than last year</td>\n",
       "      <td>NaN</td>\n",
       "      <td>4</td>\n",
       "      <td>NaN</td>\n",
       "    </tr>\n",
       "    <tr>\n",
       "      <th>3</th>\n",
       "      <td>4</td>\n",
       "      <td>I am a developer by profession</td>\n",
       "      <td>Yes</td>\n",
       "      <td>25.0</td>\n",
       "      <td>18</td>\n",
       "      <td>NaN</td>\n",
       "      <td>NaN</td>\n",
       "      <td>NaN</td>\n",
       "      <td>Albania</td>\n",
       "      <td>Albanian lek</td>\n",
       "      <td>...</td>\n",
       "      <td>NaN</td>\n",
       "      <td>NaN</td>\n",
       "      <td>No</td>\n",
       "      <td>Computer science, computer engineering, or sof...</td>\n",
       "      <td>NaN</td>\n",
       "      <td>NaN</td>\n",
       "      <td>Somewhat less welcome now than last year</td>\n",
       "      <td>40.0</td>\n",
       "      <td>7</td>\n",
       "      <td>4</td>\n",
       "    </tr>\n",
       "    <tr>\n",
       "      <th>4</th>\n",
       "      <td>5</td>\n",
       "      <td>I used to be a developer by profession, but no...</td>\n",
       "      <td>Yes</td>\n",
       "      <td>31.0</td>\n",
       "      <td>16</td>\n",
       "      <td>NaN</td>\n",
       "      <td>NaN</td>\n",
       "      <td>NaN</td>\n",
       "      <td>United States</td>\n",
       "      <td>NaN</td>\n",
       "      <td>...</td>\n",
       "      <td>Easy</td>\n",
       "      <td>Too short</td>\n",
       "      <td>No</td>\n",
       "      <td>Computer science, computer engineering, or sof...</td>\n",
       "      <td>Django;Ruby on Rails</td>\n",
       "      <td>Ruby on Rails</td>\n",
       "      <td>Just as welcome now as I felt last year</td>\n",
       "      <td>NaN</td>\n",
       "      <td>15</td>\n",
       "      <td>8</td>\n",
       "    </tr>\n",
       "  </tbody>\n",
       "</table>\n",
       "<p>5 rows × 61 columns</p>\n",
       "</div>"
      ],
      "text/plain": [
       "   Respondent                                         MainBranch Hobbyist  \\\n",
       "0           1                     I am a developer by profession      Yes   \n",
       "1           2                     I am a developer by profession       No   \n",
       "2           3                        I code primarily as a hobby      Yes   \n",
       "3           4                     I am a developer by profession      Yes   \n",
       "4           5  I used to be a developer by profession, but no...      Yes   \n",
       "\n",
       "    Age Age1stCode CompFreq  CompTotal  ConvertedComp             Country  \\\n",
       "0   NaN         13  Monthly        NaN            NaN             Germany   \n",
       "1   NaN         19      NaN        NaN            NaN      United Kingdom   \n",
       "2   NaN         15      NaN        NaN            NaN  Russian Federation   \n",
       "3  25.0         18      NaN        NaN            NaN             Albania   \n",
       "4  31.0         16      NaN        NaN            NaN       United States   \n",
       "\n",
       "     CurrencyDesc  ...                  SurveyEase           SurveyLength  \\\n",
       "0   European Euro  ...  Neither easy nor difficult  Appropriate in length   \n",
       "1  Pound sterling  ...                         NaN                    NaN   \n",
       "2             NaN  ...  Neither easy nor difficult  Appropriate in length   \n",
       "3    Albanian lek  ...                         NaN                    NaN   \n",
       "4             NaN  ...                        Easy              Too short   \n",
       "\n",
       "  Trans                                     UndergradMajor  \\\n",
       "0    No  Computer science, computer engineering, or sof...   \n",
       "1   NaN  Computer science, computer engineering, or sof...   \n",
       "2   NaN                                                NaN   \n",
       "3    No  Computer science, computer engineering, or sof...   \n",
       "4    No  Computer science, computer engineering, or sof...   \n",
       "\n",
       "  WebframeDesireNextYear    WebframeWorkedWith  \\\n",
       "0           ASP.NET Core  ASP.NET;ASP.NET Core   \n",
       "1                    NaN                   NaN   \n",
       "2                    NaN                   NaN   \n",
       "3                    NaN                   NaN   \n",
       "4   Django;Ruby on Rails         Ruby on Rails   \n",
       "\n",
       "                              WelcomeChange WorkWeekHrs YearsCode YearsCodePro  \n",
       "0   Just as welcome now as I felt last year        50.0        36           27  \n",
       "1  Somewhat more welcome now than last year         NaN         7            4  \n",
       "2  Somewhat more welcome now than last year         NaN         4          NaN  \n",
       "3  Somewhat less welcome now than last year        40.0         7            4  \n",
       "4   Just as welcome now as I felt last year         NaN        15            8  \n",
       "\n",
       "[5 rows x 61 columns]"
      ]
     },
     "execution_count": 58,
     "metadata": {},
     "output_type": "execute_result"
    }
   ],
   "source": [
    "df = pd.read_csv('survey_results_public.csv')\n",
    "df.head()"
   ]
  },
  {
   "cell_type": "code",
   "execution_count": 3,
   "id": "headed-outreach",
   "metadata": {},
   "outputs": [
    {
     "data": {
      "text/html": [
       "<div>\n",
       "<style scoped>\n",
       "    .dataframe tbody tr th:only-of-type {\n",
       "        vertical-align: middle;\n",
       "    }\n",
       "\n",
       "    .dataframe tbody tr th {\n",
       "        vertical-align: top;\n",
       "    }\n",
       "\n",
       "    .dataframe thead th {\n",
       "        text-align: right;\n",
       "    }\n",
       "</style>\n",
       "<table border=\"1\" class=\"dataframe\">\n",
       "  <thead>\n",
       "    <tr style=\"text-align: right;\">\n",
       "      <th></th>\n",
       "      <th>Column</th>\n",
       "      <th>QuestionText</th>\n",
       "    </tr>\n",
       "  </thead>\n",
       "  <tbody>\n",
       "    <tr>\n",
       "      <th>0</th>\n",
       "      <td>Respondent</td>\n",
       "      <td>Randomized respondent ID number (not in order ...</td>\n",
       "    </tr>\n",
       "    <tr>\n",
       "      <th>1</th>\n",
       "      <td>MainBranch</td>\n",
       "      <td>Which of the following options best describes ...</td>\n",
       "    </tr>\n",
       "    <tr>\n",
       "      <th>2</th>\n",
       "      <td>Hobbyist</td>\n",
       "      <td>Do you code as a hobby?</td>\n",
       "    </tr>\n",
       "    <tr>\n",
       "      <th>3</th>\n",
       "      <td>Age</td>\n",
       "      <td>What is your age (in years)? If you prefer not...</td>\n",
       "    </tr>\n",
       "    <tr>\n",
       "      <th>4</th>\n",
       "      <td>Age1stCode</td>\n",
       "      <td>At what age did you write your first line of c...</td>\n",
       "    </tr>\n",
       "  </tbody>\n",
       "</table>\n",
       "</div>"
      ],
      "text/plain": [
       "       Column                                       QuestionText\n",
       "0  Respondent  Randomized respondent ID number (not in order ...\n",
       "1  MainBranch  Which of the following options best describes ...\n",
       "2    Hobbyist                            Do you code as a hobby?\n",
       "3         Age  What is your age (in years)? If you prefer not...\n",
       "4  Age1stCode  At what age did you write your first line of c..."
      ]
     },
     "execution_count": 3,
     "metadata": {},
     "output_type": "execute_result"
    }
   ],
   "source": [
    "schema = pd.read_csv('survey_results_schema.csv')\n",
    "schema.head()"
   ]
  },
  {
   "cell_type": "markdown",
   "id": "deadly-algorithm",
   "metadata": {},
   "source": [
    "## Support methods for ploting and cleaning data"
   ]
  },
  {
   "cell_type": "code",
   "execution_count": 4,
   "id": "stuffed-mother",
   "metadata": {},
   "outputs": [],
   "source": [
    "def total_count(df, col1, col2, look_for):\n",
    "    '''\n",
    "    INPUT:\n",
    "    df - the pandas dataframe you want to search\n",
    "    col1 - the column name you want to look through\n",
    "    col2 - the column you want to count values from\n",
    "    look_for - a list of strings you want to search for in each row of df[col]\n",
    "\n",
    "    OUTPUT:\n",
    "    new_df - a dataframe of each look_for with the count of how often it shows up\n",
    "    '''\n",
    "    new_df = defaultdict(int)\n",
    "    for val in look_for:\n",
    "        for idx in range(df.shape[0]):\n",
    "            if val in df[col1][idx]:\n",
    "                new_df[val] += int(df[col2][idx])\n",
    "    new_df = pd.DataFrame(pd.Series(new_df)).reset_index()\n",
    "    new_df.columns = [col1, col2]\n",
    "    new_df.sort_values('count', ascending=False, inplace=True)\n",
    "    return new_df\n",
    "\n",
    "\n",
    "def clean_and_plot(plot, possible_vals, column_name, df, title):\n",
    "    '''\n",
    "    INPUT \n",
    "        df - main dataframe\n",
    "        title - string the title of your plot\n",
    "        plot - bool providing whether or not you want a plot back\n",
    "        column_name - string of column you are wanting to clean and plot\n",
    "        possible_vals - list containing strings of possible values in the column\n",
    "        \n",
    "    OUTPUT\n",
    "        study_df - a dataframe with the count of how many individuals\n",
    "        Displays a plot of pretty things related to the CousinEducation column.\n",
    "    '''\n",
    "    study = df[column_name].value_counts().reset_index()\n",
    "    study.rename(columns={'index': 'method', column_name: 'count'}, inplace=True)\n",
    "    study_df = total_count(study, 'method', 'count', possible_vals)\n",
    "\n",
    "    study_df.set_index('method', inplace=True)\n",
    "    if plot:\n",
    "        (study_df).plot(kind='bar', legend=None);\n",
    "        plt.title(title);\n",
    "        plt.xlabel('')\n",
    "        plt.ylabel('Votes')\n",
    "        plt.savefig('categorical_plot.png', dpi=300,bbox_inches='tight')\n",
    "        plt.show()\n",
    "    return study_df"
   ]
  },
  {
   "cell_type": "markdown",
   "id": "logical-member",
   "metadata": {},
   "source": [
    "## Question 1: What is the correlation between being transgender and salary as a developer?"
   ]
  },
  {
   "cell_type": "code",
   "execution_count": 12,
   "id": "timely-mattress",
   "metadata": {},
   "outputs": [
    {
     "data": {
      "text/plain": [
       "Trans            23.449838\n",
       "ConvertedComp    46.082127\n",
       "dtype: float64"
      ]
     },
     "execution_count": 12,
     "metadata": {},
     "output_type": "execute_result"
    }
   ],
   "source": [
    "# CHEKING UP PERCENTAGE OF NULL VALUES OR COLUMNS OF INTEREST\n",
    "\n",
    "df[['Trans', 'ConvertedComp']].isnull().mean() * 100\n",
    "\n",
    "# \"ConvertedComp\" HAS A NEARLY 50% OF NAN VALUES, HOWEVER, REPLACING NANs WITH A VALUE CAN DISORT COMPLETELY THE RESULTS."
   ]
  },
  {
   "cell_type": "code",
   "execution_count": 17,
   "id": "infrared-explorer",
   "metadata": {
    "scrolled": true
   },
   "outputs": [
    {
     "data": {
      "text/plain": [
       "Trans\n",
       "No     103739.019901\n",
       "Yes     87973.094488\n",
       "Name: ConvertedComp, dtype: float64"
      ]
     },
     "execution_count": 17,
     "metadata": {},
     "output_type": "execute_result"
    },
    {
     "data": {
      "image/png": "[encoded data removed]",
      "text/plain": [
       "<Figure size 432x288 with 1 Axes>"
      ]
     },
     "metadata": {
      "needs_background": "light"
     },
     "output_type": "display_data"
    }
   ],
   "source": [
    "# CLEANING UP THE DATA AND PLOTTING AFTER HAVING 0 NAN VALUES\n",
    "\n",
    "x = df.dropna(subset = ['ConvertedComp', 'Trans'])\n",
    "x = x.groupby(['Trans'])['ConvertedComp'].mean()\n",
    "plt.bar(x.index, x, width = 0.5, align='center', color=['#CEE1FA', '#AFD3E3'])\n",
    "plt.xticks(rotation=90)\n",
    "plt.xlabel('Transgender')\n",
    "plt.ylabel('Salaray (USD)')\n",
    "plt.savefig('transgender_salary.png', dpi=300,bbox_inches='tight')\n",
    "x.head()"
   ]
  },
  {
   "cell_type": "markdown",
   "id": "average-batch",
   "metadata": {},
   "source": [
    "## Question 2: What job factors interest developers the most when seeking a job?"
   ]
  },
  {
   "cell_type": "code",
   "execution_count": 122,
   "id": "neutral-encounter",
   "metadata": {
    "scrolled": false
   },
   "outputs": [
    {
     "data": {
      "image/png": "[encoded data removed]",
      "text/plain": [
       "<Figure size 432x288 with 1 Axes>"
      ]
     },
     "metadata": {
      "needs_background": "light"
     },
     "output_type": "display_data"
    }
   ],
   "source": [
    "possible_vals = ['Remote work options', 'Office environment or company culture',\n",
    "                'Financial performance or funding status of the company or organization',\n",
    "                'Opportunities for professional development',\n",
    "                'Diversity of the company or organization', 'How widely used or impactful my work output would be',\n",
    "                'Industry that I’d be working in', 'Specific department or team I’d be working on',\n",
    "                'Specific department or team I’d be working on', 'Languages, frameworks, and other technologies I’d be working with',\n",
    "                'Family friendliness']\n",
    "\n",
    "# \"clean_and_plot\" FUNCTION HELPS HAVING ORGANIZED AND CLEAN DATA\n",
    "\n",
    "props_df = clean_and_plot(df=df, title='Job Factors', plot=True, possible_vals=possible_vals, column_name='JobFactors')"
   ]
  },
  {
   "cell_type": "markdown",
   "id": "executed-concentrate",
   "metadata": {},
   "source": [
    "## Question 3: What relates to employment status?\n",
    "Fields taken into account:\n",
    "- Developer Type\n",
    "- Country of Residence\n",
    "- Education Level"
   ]
  },
  {
   "cell_type": "code",
   "execution_count": 16,
   "id": "through-florida",
   "metadata": {},
   "outputs": [
    {
     "data": {
      "text/plain": [
       "Employment    0.009417\n",
       "DevType       0.234111\n",
       "dtype: float64"
      ]
     },
     "execution_count": 16,
     "metadata": {},
     "output_type": "execute_result"
    }
   ],
   "source": [
    "# CHEKING UP PERCENTAGE OF NULL VALUES FOR COLUMNS OF INTEREST\n",
    "\n",
    "df[['Employment', 'DevType']].isnull().mean()\n",
    "\n",
    "# VERY LOW NANs RATIO, DROPPING NANs ROWS WILL NOT HAVE A DRASTIC IMPACT"
   ]
  },
  {
   "cell_type": "markdown",
   "id": "tired-traveler",
   "metadata": {},
   "source": [
    "### Developer Type (Employed)"
   ]
  },
  {
   "cell_type": "code",
   "execution_count": 18,
   "id": "effective-burning",
   "metadata": {
    "scrolled": false
   },
   "outputs": [
    {
     "data": {
      "text/plain": [
       "DevType\n",
       "Developer, full-stack    3786\n",
       "Developer, back-end      2721\n",
       "Name: DevType, dtype: int64"
      ]
     },
     "execution_count": 18,
     "metadata": {},
     "output_type": "execute_result"
    }
   ],
   "source": [
    "devTypeE = df.dropna(subset=['Employment', 'DevType'])\n",
    "devTypeE = devTypeE.groupby(['Employment'])['DevType'].value_counts()['Employed full-time'].head(2)\n",
    "devTypeE.head()"
   ]
  },
  {
   "cell_type": "markdown",
   "id": "ranging-crossing",
   "metadata": {},
   "source": [
    "### Developer Type (Unemployed)"
   ]
  },
  {
   "cell_type": "code",
   "execution_count": 19,
   "id": "verbal-silly",
   "metadata": {},
   "outputs": [
    {
     "data": {
      "text/plain": [
       "DevType\n",
       "Developer, full-stack    145\n",
       "Developer, back-end      103\n",
       "Name: DevType, dtype: int64"
      ]
     },
     "execution_count": 19,
     "metadata": {},
     "output_type": "execute_result"
    }
   ],
   "source": [
    "devTypeUE = df.dropna(subset=['Employment', 'DevType'])\n",
    "devTypeUE = devTypeUE.groupby(['Employment'])['DevType'].value_counts()['Not employed, but looking for work'].head(2)\n",
    "devTypeUE.head()"
   ]
  },
  {
   "cell_type": "markdown",
   "id": "charged-iraqi",
   "metadata": {},
   "source": [
    "### Developer Type (Plot)"
   ]
  },
  {
   "cell_type": "code",
   "execution_count": 31,
   "id": "prompt-force",
   "metadata": {},
   "outputs": [
    {
     "data": {
      "image/png": "[encoded data removed]",
      "text/plain": [
       "<Figure size 432x288 with 2 Axes>"
      ]
     },
     "metadata": {
      "needs_background": "light"
     },
     "output_type": "display_data"
    }
   ],
   "source": [
    "fig, (ax1, ax2) = plt.subplots(1, 2)\n",
    "fig.suptitle('Developer Type')\n",
    "ax1.bar(devTypeE.index, devTypeE, width = 0.5, align='center', color=['#57DB6E', '#55F29C'])\n",
    "ax1.set_title('Employed')\n",
    "ax2.bar(devTypeUE.index, devTypeUE, width = 0.5, align='center', color=['#E03934', '#F7512D'])\n",
    "ax2.set_title('Unemployed');\n",
    "ax1.tick_params(labelrotation=90)\n",
    "ax2.tick_params(labelrotation=90)\n",
    "fig.savefig('developer_type.png', dpi=300,bbox_inches='tight')"
   ]
  },
  {
   "cell_type": "code",
   "execution_count": 20,
   "id": "qualified-dressing",
   "metadata": {},
   "outputs": [
    {
     "data": {
      "text/plain": [
       "Employment    0.009417\n",
       "Country       0.006035\n",
       "dtype: float64"
      ]
     },
     "execution_count": 20,
     "metadata": {},
     "output_type": "execute_result"
    }
   ],
   "source": [
    "# CHEKING UP PERCENTAGE OF NULL VALUES FOR COLUMNS OF INTEREST\n",
    "\n",
    "df[['Employment', 'Country']].isnull().mean()\n",
    "\n",
    "# VERY LOW NANs RATIO, DROPPING NANs ROWS WILL NOT HAVE A DRASTIC IMPACT"
   ]
  },
  {
   "cell_type": "markdown",
   "id": "narrow-travel",
   "metadata": {},
   "source": [
    "### Country (Employed)"
   ]
  },
  {
   "cell_type": "code",
   "execution_count": 21,
   "id": "quarterly-peter",
   "metadata": {},
   "outputs": [
    {
     "data": {
      "text/plain": [
       "Country\n",
       "United States     9765\n",
       "India             6085\n",
       "United Kingdom    2993\n",
       "Name: Country, dtype: int64"
      ]
     },
     "execution_count": 21,
     "metadata": {},
     "output_type": "execute_result"
    }
   ],
   "source": [
    "countryE = df.dropna(subset=['Employment', 'Country'])\n",
    "countryE = countryE.groupby(['Employment'])['Country'].value_counts()['Employed full-time'].head(3)\n",
    "countryE.head()"
   ]
  },
  {
   "cell_type": "markdown",
   "id": "bridal-heavy",
   "metadata": {},
   "source": [
    "### Country (Unemployed)"
   ]
  },
  {
   "cell_type": "code",
   "execution_count": 22,
   "id": "received-laugh",
   "metadata": {},
   "outputs": [
    {
     "data": {
      "text/plain": [
       "Country\n",
       "United States    356\n",
       "India            347\n",
       "Nigeria          118\n",
       "Name: Country, dtype: int64"
      ]
     },
     "execution_count": 22,
     "metadata": {},
     "output_type": "execute_result"
    }
   ],
   "source": [
    "countryUE = df.dropna(subset=['Employment', 'Country'])\n",
    "countryUE = countryUE.groupby(['Employment'])['Country'].value_counts()['Not employed, but looking for work'].head(3)\n",
    "countryUE.head()"
   ]
  },
  {
   "cell_type": "markdown",
   "id": "strategic-injection",
   "metadata": {},
   "source": [
    "### Country (Plot)"
   ]
  },
  {
   "cell_type": "code",
   "execution_count": 39,
   "id": "hidden-extreme",
   "metadata": {},
   "outputs": [
    {
     "data": {
      "image/png": "[encoded data removed]",
      "text/plain": [
       "<Figure size 432x288 with 2 Axes>"
      ]
     },
     "metadata": {
      "needs_background": "light"
     },
     "output_type": "display_data"
    }
   ],
   "source": [
    "fig, (ax1, ax2) = plt.subplots(1, 2)\n",
    "fig.suptitle('Living Country')\n",
    "ax1.bar(countryE.index, countryE, width = 0.5, align='center', color=['#57DB6E', '#55F29C'])\n",
    "ax1.set_title('Employed')\n",
    "ax2.bar(countryUE.index, countryUE, width = 0.5, align='center', color=['#E03934', '#F7512D'])\n",
    "ax2.set_title('Unemployed');\n",
    "ax1.tick_params(labelrotation=90)\n",
    "ax2.tick_params(labelrotation=90)\n",
    "fig.savefig('living_country.png', dpi=300,bbox_inches='tight')"
   ]
  },
  {
   "cell_type": "code",
   "execution_count": 24,
   "id": "peripheral-breeding",
   "metadata": {},
   "outputs": [
    {
     "data": {
      "text/plain": [
       "Employment    0.009417\n",
       "EdLevel       0.109058\n",
       "dtype: float64"
      ]
     },
     "execution_count": 24,
     "metadata": {},
     "output_type": "execute_result"
    }
   ],
   "source": [
    "# CHEKING UP PERCENTAGE OF NULL VALUES FOR COLUMNS OF INTEREST\n",
    "\n",
    "df[['Employment', 'EdLevel']].isnull().mean()\n",
    "\n",
    "# VERY LOW NANs RATIO, DROPPING NANs ROWS WILL NOT HAVE A DRASTIC IMPACT"
   ]
  },
  {
   "cell_type": "markdown",
   "id": "alternate-intensity",
   "metadata": {},
   "source": [
    "### Education Level (Employed)"
   ]
  },
  {
   "cell_type": "code",
   "execution_count": 25,
   "id": "joint-pierce",
   "metadata": {},
   "outputs": [
    {
     "data": {
      "text/plain": [
       "EdLevel\n",
       "Bachelor’s degree (B.A., B.S., B.Eng., etc.)                                          20717\n",
       "Master’s degree (M.A., M.S., M.Eng., MBA, etc.)                                       10703\n",
       "Some college/university study without earning a degree                                 4311\n",
       "Secondary school (e.g. American high school, German Realschule or Gymnasium, etc.)     1576\n",
       "Name: EdLevel, dtype: int64"
      ]
     },
     "execution_count": 25,
     "metadata": {},
     "output_type": "execute_result"
    }
   ],
   "source": [
    "ed_levelE = df.dropna(subset=['Employment', 'EdLevel'])\n",
    "ed_levelE = df.groupby(['Employment'])['EdLevel'].value_counts()['Employed full-time'].head(4)\n",
    "ed_levelE.head()"
   ]
  },
  {
   "cell_type": "markdown",
   "id": "leading-stationery",
   "metadata": {},
   "source": [
    "### Education Level (Unemployed)"
   ]
  },
  {
   "cell_type": "code",
   "execution_count": 26,
   "id": "cellular-advocacy",
   "metadata": {},
   "outputs": [
    {
     "data": {
      "text/plain": [
       "EdLevel\n",
       "Bachelor’s degree (B.A., B.S., B.Eng., etc.)                                          912\n",
       "Some college/university study without earning a degree                                386\n",
       "Master’s degree (M.A., M.S., M.Eng., MBA, etc.)                                       273\n",
       "Secondary school (e.g. American high school, German Realschule or Gymnasium, etc.)    209\n",
       "Name: EdLevel, dtype: int64"
      ]
     },
     "execution_count": 26,
     "metadata": {},
     "output_type": "execute_result"
    }
   ],
   "source": [
    "ed_levelUE = df.dropna(subset=['Employment', 'EdLevel'])\n",
    "ed_levelUE = ed_levelUE.groupby(['Employment'])['EdLevel'].value_counts()['Not employed, but looking for work'].head(4)\n",
    "ed_levelUE.head()"
   ]
  },
  {
   "cell_type": "markdown",
   "id": "improved-construction",
   "metadata": {},
   "source": [
    "### Education Level (Plot)"
   ]
  },
  {
   "cell_type": "code",
   "execution_count": 28,
   "id": "subject-heritage",
   "metadata": {},
   "outputs": [
    {
     "data": {
      "image/png": "[encoded data removed]",
      "text/plain": [
       "<Figure size 432x288 with 2 Axes>"
      ]
     },
     "metadata": {
      "needs_background": "light"
     },
     "output_type": "display_data"
    }
   ],
   "source": [
    "index = [\"Bachelor's degree\", \"Master's degree\", \"College/University study without earning a degree\", \"Secondary School\"]\n",
    "\n",
    "fig, (ax1, ax2) = plt.subplots(1, 2)\n",
    "fig.suptitle('Education Level')\n",
    "ax1.bar(index, ed_levelE, width = 0.5, align='center', color=['#57DB6E', '#55F29C', '#6BF255', '#9BE851'])\n",
    "ax1.set_title('Employed')\n",
    "ax2.bar(index, ed_levelUE, width = 0.5, align='center', color=['#E03934', '#F7512D', '#ED6A2B', '#F72D7B'])\n",
    "ax2.set_title('Unemployed');\n",
    "ax1.tick_params(labelrotation=90)\n",
    "ax2.tick_params(labelrotation=90)\n",
    "ax1.set_yticks([20000,15000,10000,5000,1000])\n",
    "fig.savefig('education_level.png', dpi=300,bbox_inches='tight')"
   ]
  },
  {
   "cell_type": "markdown",
   "id": "conceptual-grounds",
   "metadata": {},
   "source": [
    "## Question 4: What is the average age of employed developers in the industry?"
   ]
  },
  {
   "cell_type": "code",
   "execution_count": 27,
   "id": "internal-circle",
   "metadata": {},
   "outputs": [
    {
     "data": {
      "text/plain": [
       "Employment    0.009417\n",
       "Age           0.294985\n",
       "dtype: float64"
      ]
     },
     "execution_count": 27,
     "metadata": {},
     "output_type": "execute_result"
    }
   ],
   "source": [
    "# CHEKING UP PERCENTAGE OF NULL VALUES FOR COLUMNS OF INTEREST\n",
    "\n",
    "df[['Employment', 'Age']].isnull().mean()\n",
    "\n",
    "# AGE NANs COULD BE REPLACED WITH MODE AS NEARLY THE THIRD OF THE DATA IS MISSING"
   ]
  },
  {
   "cell_type": "code",
   "execution_count": 75,
   "id": "outside-adapter",
   "metadata": {},
   "outputs": [
    {
     "data": {
      "text/plain": [
       "Employment\n",
       "Employed full-time                                      31.938042\n",
       "Employed part-time                                      27.321102\n",
       "Independent contractor, freelancer, or self-employed    35.529601\n",
       "Name: Age, dtype: float64"
      ]
     },
     "execution_count": 75,
     "metadata": {},
     "output_type": "execute_result"
    }
   ],
   "source": [
    "average_age = df.drop(df.columns.difference(['Employment','Age']))\n",
    "average_age = average_age.dropna(subset=['Employment'])\n",
    "average_age['Age'] = average_age['Age'].fillna(average_age['Age'].mode())\n",
    "average_age = average_age.groupby(['Employment'])['Age'].mean().head(3)\n",
    "average_age.head()"
   ]
  },
  {
   "cell_type": "code",
   "execution_count": 5,
   "id": "figured-process",
   "metadata": {},
   "outputs": [
    {
     "data": {
      "image/png": "[encoded data removed]",
      "text/plain": [
       "<Figure size 432x288 with 1 Axes>"
      ]
     },
     "metadata": {
      "needs_background": "light"
     },
     "output_type": "display_data"
    }
   ],
   "source": [
    "plt.bar(average_age.index, average_age, width = 0.5, align='center', color=['#AFB8E3', '#AFD3E3', '#CEE1FA'])\n",
    "plt.xticks(rotation=90)\n",
    "plt.ylabel('Age')\n",
    "plt.savefig('average_age.png', dpi=300,bbox_inches='tight')"
   ]
  }
 ],
 "metadata": {
  "kernelspec": {
   "display_name": "Python 3",
   "language": "python",
   "name": "python3"
  },
  "language_info": {
   "codemirror_mode": {
    "name": "ipython",
    "version": 3
   },
   "file_extension": ".py",
   "mimetype": "text/x-python",
   "name": "python",
   "nbconvert_exporter": "python",
   "pygments_lexer": "ipython3",
   "version": "3.8.6"
  }
 },
 "nbformat": 4,
 "nbformat_minor": 5
}
